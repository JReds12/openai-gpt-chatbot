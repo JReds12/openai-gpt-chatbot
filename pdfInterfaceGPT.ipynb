{
 "cells": [
  {
   "cell_type": "markdown",
   "id": "a89294b5",
   "metadata": {},
   "source": [
    "# GLANSIS INVASIVE SPECIES ENVIRONMENTAL IMPACT PDF CHATBOT INTERFACE"
   ]
  },
  {
   "cell_type": "markdown",
   "id": "75bd00fd",
   "metadata": {},
   "source": [
    "This PDF Chatbot Interface was created to test Large Language Models (LLM) potiential application to literature review involving literature reviews. The project focused on the impact assessments performed by GLANSIS given the clear criteria used to determine impact categories."
   ]
  },
  {
   "cell_type": "markdown",
   "id": "e2d165b7",
   "metadata": {},
   "source": [
    "To run this script, users need to select a PDF and enter the species name of the invasive species under review. Seven queries are asked of the text related to impact type, location, and description."
   ]
  },
  {
   "cell_type": "markdown",
   "id": "fea35a4e",
   "metadata": {},
   "source": [
    "## Import libraries"
   ]
  },
  {
   "cell_type": "code",
   "execution_count": 5,
   "id": "786bac3b",
   "metadata": {},
   "outputs": [],
   "source": [
    "# Import libraries\n",
    "from personal import secrets\n",
    "import os\n",
    "import pandas as pd\n",
    "import openai\n",
    "from tkinter import Tk, filedialog\n",
    "from PyPDF2 import PdfReader\n",
    "from langchain.text_splitter import CharacterTextSplitter\n",
    "from langchain.embeddings.openai import OpenAIEmbeddings\n",
    "from langchain.vectorstores import FAISS\n",
    "from langchain.chat_models import ChatOpenAI\n",
    "from langchain.chains.question_answering import load_qa_chain\n"
   ]
  },
  {
   "cell_type": "markdown",
   "id": "c4c60b04",
   "metadata": {},
   "source": [
    "## User Input Information\n",
    "Users will need to add specific information before using the interface."
   ]
  },
  {
   "cell_type": "markdown",
   "id": "7a06285e",
   "metadata": {},
   "source": [
    "#### Enter User API Key\n",
    "Users will need to enter their personal OpenAI API key to run chatbot interface"
   ]
  },
  {
   "cell_type": "code",
   "execution_count": 7,
   "id": "400d3073",
   "metadata": {},
   "outputs": [],
   "source": [
    "# Open the API key for openai\n",
    "api_key = secrets.get('OPENAI API KEY')\n",
    "os.environ[\"OPENAI_API_KEY\"] = str(api_key)\n"
   ]
  },
  {
   "cell_type": "markdown",
   "id": "8bb29d9a",
   "metadata": {},
   "source": [
    "#### Enter Species Name\n",
    "Users will need to enter the name of the invasive species they want to find impacts for."
   ]
  },
  {
   "cell_type": "code",
   "execution_count": 3,
   "id": "763e97ca",
   "metadata": {},
   "outputs": [],
   "source": [
    "species = \"\"\n"
   ]
  },
  {
   "cell_type": "markdown",
   "id": "61a659e1",
   "metadata": {},
   "source": [
    "#### Select a PDF to use ChatBot Interface\n",
    "A filedialog box will open so users can select desired PDF. To the text will be extracted from PDF. To prepare the PDF for the chatbot, text will be split and converted to vector database for quearies. "
   ]
  },
  {
   "cell_type": "code",
   "execution_count": null,
   "id": "9b34f1aa",
   "metadata": {},
   "outputs": [],
   "source": [
    "# Open a file dialog to select an Excel file\n",
    "root = Tk()                                         \n",
    "root.attributes(\"-topmost\", True)                   \n",
    "root.withdraw()\n",
    "file_path = filedialog.askopenfilename(filetypes=[(\"PDF files\", \"*.pdf\")])\n",
    "\n",
    "# Import PDF\n",
    "reader = PdfReader(file_path)\n",
    "\n",
    "# Read in text from PDF \n",
    "raw_text = ''\n",
    "for i, page in enumerate(reader.pages):\n",
    "    text = page.extract_text()\n",
    "    if text:\n",
    "        raw_text += text\n",
    "\n",
    "\n",
    "# Split the text into smaller chunks so information retrieval doesn't hit token limit size\n",
    "text_splitter = CharacterTextSplitter(\n",
    "    separator = '\\n',\n",
    "    chunk_size = 1000,\n",
    "    chunk_overlap = 200,\n",
    "    length_function = len,\n",
    ")\n",
    "\n",
    "text_chunk = text_splitter.split_text(raw_text)\n",
    "\n",
    "# Download embeddings from OpenAI - list of \n",
    "embeddings = OpenAIEmbeddings()\n",
    "\n",
    "# Create vector database\n",
    "docsearch = FAISS.from_texts(text_chunk, embeddings)\n",
    "\n",
    "# Sets openai model - currently set to default\n",
    "llm = ChatOpenAI(model_name=\"gpt-3.5-turbo\")\n",
    "chain = load_qa_chain(llm, chain_type = 'stuff')\n"
   ]
  },
  {
   "cell_type": "markdown",
   "id": "cc2c790b",
   "metadata": {},
   "source": [
    "## Establish GLANSIS Query Criteria\n",
    "GLANSIS has specific definitions for impacts, study types, and study locations. These will be used as part of the prompts for later queries. "
   ]
  },
  {
   "cell_type": "code",
   "execution_count": 12,
   "id": "2b0e37b4",
   "metadata": {},
   "outputs": [],
   "source": [
    "# Description of environmental impacts\n",
    "env_impact = f\"\"\"\n",
    "Disease/Parasite/Toxicity: The species pose some hazard or threat to the health of native species (e.g., it magnifies toxin levels; is poisonous; is a pathogen, parasite, or a vector of either); the species has introduced a novel or rare disease or parasite to another organism in the area that was unafflicted with said disease or parasite before its introduction, including moving a native parasite outside of its typical range; toxicity includes both envenomation and poisoning. The species pose some hazard or threat to human health (e.g., it magnifies toxin levels, is poisonous, a virus, bacteria, parasite, or a vector of one).\n",
    "\n",
    "Predation/Herbivory: species consumes or is consumed by another species. \n",
    "it alter predator-prey relationships.\n",
    "\n",
    "Food Web: species changes second order or higher nutrient/feeding cascades.\n",
    "\n",
    "Competition: The species out-compete native species for available resources (e.g., habitat, food, nutrients, light). species shares a niche with another species where introduced, such that they compete for resources (such as food and habitat).\n",
    "\n",
    "Genetic: Has it affected any native populations genetically (e.g., through hybridization, selective pressure, introgression). Species hybridizes with another organism as a result of its introduction, with the resulting offspring viability being irrelevant.\n",
    "\n",
    "Water Quality: species creates measurable changes in water chemistry/quality/parameters as compared to pre-introduction. negatively affect water quality (e.g., increased turbidity or clarity, altered nutrient, oxygen, or other chemical levels/cycles).\n",
    "\n",
    "Habitat Alteration: introduction of the species modifies the environment to which it was introduced, such as zebra mussels that attached to surfaces, changing the substrate of a waterbody. \n",
    "\n",
    "alter physical components of the ecosystem in some way (e.g., facilitated erosion/siltation, altered hydrology, altered macrophyte/phytoplankton communities, physical or chemical changes to substrate)?\n",
    "\"\"\"\n",
    "\n",
    "# Description of study types\n",
    "study_type = f\"\"\"\n",
    "Experimental: a study/reference with a claim that was supported experimentally, i.e. at least one variable in the study was manipulated.\n",
    "\n",
    "Observational: a study/reference that with a claim that was founded observing something, i.e. nothing in the study or report was a result of manipulating any variables.\n",
    "\n",
    "Anecdotal: a study/reference with a claim that is unfounded with direct research, but supported by theory or correlation, therefore anecdotal.\n",
    "\"\"\"\n",
    "\n",
    "# Description of study locations\n",
    "study_location = f\"\"\"\n",
    "Field: The study/impact occurred in the field.\n",
    "\n",
    "Laboratory: The study/impact occurred in the laboratory.\n",
    "\n",
    "N/A: Study/impact was not in a lab or field setting and falls in neither of the previous categories\n",
    " \"\"\"\n"
   ]
  },
  {
   "cell_type": "markdown",
   "id": "bc452c7b",
   "metadata": {},
   "source": [
    "## Environmental Impact Queries\n",
    "GLANSIS looks at 6 different environmental impact types. From those specific impacts, data concerning location and impacted species is collected. The following queries will help create a dataframe with data concerning each impact."
   ]
  },
  {
   "cell_type": "code",
   "execution_count": 14,
   "id": "8bba6b83",
   "metadata": {},
   "outputs": [
    {
     "name": "stdout",
     "output_type": "stream",
     "text": [
      "['Predation/Herbivory', 'Competition', 'Food Web', 'Habitat Alteration']\n"
     ]
    }
   ],
   "source": [
    "# Categorizing different impacts\n",
    "query = f\"\"\"\n",
    "What are the documented categorical ecological impacts of invasive ```{species}``` in invaded \n",
    "regions? Generate a list seperated by commas containing only “Disease/Parasite/Toxicity”, “Predation/Herbivory”, \n",
    "“Food Web”, “Competition”, “Genetic”, “Water Quality”, or “Habitat Alteration” using\n",
    "```{env_impact}```as guidance.\n",
    "If there are no impacts report as NA”\n",
    "\"\"\"\n",
    "\n",
    "docs = docsearch.similarity_search(query)\n",
    "impact_types = chain.run(input_documents = docs, question = query).split(\", \")\n",
    "print(impact_types)\n"
   ]
  },
  {
   "cell_type": "code",
   "execution_count": 18,
   "id": "91d82a66",
   "metadata": {},
   "outputs": [
    {
     "name": "stdout",
     "output_type": "stream",
     "text": [
      "['[Experimental]', 'Experimental', 'Experimental', 'Experimental']\n"
     ]
    }
   ],
   "source": [
    "# Study type\n",
    "study_type = []\n",
    "\n",
    "for impact in impact_types:\n",
    "    \n",
    "    query = f\"\"\"\n",
    "    How was the impact '''{impact}''' documented? Use ```{study_type}``` as guidance for determining study type. \n",
    "    Possible responses are: “Experimental”, “Observational”, or “Anecdotal.” Do not add any additional content, \n",
    "    formatting, or punctuation.\n",
    "    \"\"\"\n",
    "    docs = docsearch.similarity_search(query)\n",
    "    study_type.append(chain.run(input_documents = docs, question = query))\n",
    "    \n",
    "print(study_type)\n"
   ]
  },
  {
   "cell_type": "code",
   "execution_count": 19,
   "id": "0003084c",
   "metadata": {},
   "outputs": [
    {
     "name": "stdout",
     "output_type": "stream",
     "text": [
      "['[Field]', 'Field', 'Field', 'Field']\n"
     ]
    }
   ],
   "source": [
    "# Study location\n",
    "\n",
    "study_location = []\n",
    "\n",
    "for impact in impact_types:\n",
    "    \n",
    "    query = f\"\"\"\n",
    "    Where did the documented impact '''{impact}''' '''occur? Use ```{study_location}``` as guidance for study location. \n",
    "    Possible response are: “Field”, “Laboratory”, or “N/A.” Do not add any additional content or formatting.\n",
    "    \"\"\"\n",
    "    \n",
    "    docs = docsearch.similarity_search(query)\n",
    "    study_location.append(chain.run(input_documents = docs, question = query))\n",
    "    \n",
    "print(study_location)    \n"
   ]
  },
  {
   "cell_type": "code",
   "execution_count": 20,
   "id": "04d474b2",
   "metadata": {},
   "outputs": [
    {
     "name": "stdout",
     "output_type": "stream",
     "text": [
      "[\"The predation/herbivory of silver carp (Hypophthalmichthys molitrix) in the Illinois River, Illinois, USA, has led to significant effects on zooplankton communities, impacting native fishes and altering ecosystem dynamics. Silver carp's feeding behavior has caused changes in zooplankton populations and community structures, contributing to concerns about its invasive impact on the aquatic environment.\", 'The invasive silver carp (Hypophthalmichthys molitrix) has been shown to impact native fish species in the Illinois River, USA, leading to reduced condition factors and potential competition due to shared resources.', 'Silver carp (Hypophthalmichthys molitrix) impact zooplankton communities in the Missouri River, USA, affecting trophic dynamics. In the Illinois River, Illinois, silver carp alter zooplankton composition, influencing native fish diets and ecosystem balance.', 'The invasive silver carp (Hypophthalmichthys molitrix) has been observed to alter habitats by impacting zooplankton communities in the Illinois River, Illinois, USA, as well as in a mesotrophic reservoir in China. These alterations can have cascading effects on the ecosystem.']\n"
     ]
    }
   ],
   "source": [
    "# Descripe the impact\n",
    "\n",
    "impact_description = []\n",
    "\n",
    "for impact in impact_types:\n",
    "    \n",
    "    query = f\"\"\"\n",
    "    Write one to three sentence descriptions of the '''{impact}''' of ```{species}``` on the\n",
    "    environment. This should include the scientific name of the species, as well as the geographic\n",
    "    location of the impact (Country/state, waterbody). Descriptions must be fewer than 500 characters.\n",
    "    \"\"\"\n",
    "    \n",
    "    docs = docsearch.similarity_search(query)\n",
    "    impact_description.append(chain.run(input_documents = docs, question = query))\n",
    "    \n",
    "print(impact_description)\n"
   ]
  },
  {
   "cell_type": "code",
   "execution_count": 21,
   "id": "5e7ec9eb",
   "metadata": {},
   "outputs": [
    {
     "name": "stdout",
     "output_type": "stream",
     "text": [
      "['Mississippi River, Iowa, USA.', 'Mississippi River, Iowa, USA.', 'Upper Mississippi River, Illinois, USA', 'UMR, Iowa, United States']\n"
     ]
    }
   ],
   "source": [
    "# Experiment location\n",
    "\n",
    "geo_loc = []\n",
    "\n",
    "for impact in impact_types:\n",
    "    \n",
    "    query = f\"\"\"\n",
    "    Where is the geographic location of the impact '''{impact}''' ? Report answer in the format \n",
    "    “waterbody, State/province, Country” or “waterbody, Country.” Do not had any additional content \n",
    "    or formatting. Do not use abbreviations for location, waterbody, or country.\n",
    "    \"\"\"\n",
    "    \n",
    "    docs = docsearch.similarity_search(query)\n",
    "    geo_loc.append(chain.run(input_documents = docs, question = query))\n",
    "    \n",
    "print(geo_loc)\n"
   ]
  },
  {
   "cell_type": "code",
   "execution_count": 22,
   "id": "6ac1b5df",
   "metadata": {},
   "outputs": [
    {
     "name": "stdout",
     "output_type": "stream",
     "text": [
      "['no', 'no', 'no', 'no']\n"
     ]
    }
   ],
   "source": [
    "# Great Lakes - experiment location\n",
    "\n",
    "gl_loc = []\n",
    "\n",
    "for impact in impact_types:\n",
    "    \n",
    "    query = f\"\"\"\n",
    "    Did this impact happen within the Great Lakes Basin? Possible responses are: “yes” or “no.”\n",
    "    Do not add any additional content, formatting, or punctuation.\n",
    "    \"\"\"\n",
    "    \n",
    "    docs = docsearch.similarity_search(query)\n",
    "    gl_loc.append(chain.run(input_documents = docs, question = query))\n",
    "\n",
    "print(gl_loc)\n"
   ]
  },
  {
   "cell_type": "code",
   "execution_count": 23,
   "id": "88d03c3c",
   "metadata": {},
   "outputs": [
    {
     "name": "stdout",
     "output_type": "stream",
     "text": [
      "['NA', 'NA', 'NA', 'Bluegill, emerald shiner, yellow perch']\n"
     ]
    }
   ],
   "source": [
    "# Impacted species\n",
    "\n",
    "impacted_sp = []\n",
    "\n",
    "for impact in impact_types:\n",
    "    \n",
    "    query = f\"\"\"\n",
    "    If applicable, which native species were impacted by '''{species} from '''{impact}'''? Report as list of common \n",
    "    or scientific names. If none, report \"NA.\" Do not add any additional content, formatting, or punctuation.\n",
    "    \"\"\"\n",
    "    \n",
    "    docs = docsearch.similarity_search(query)\n",
    "    impacted_sp.append(chain.run(input_documents = docs, question = query))\n",
    "\n",
    "print(impacted_sp)\n"
   ]
  },
  {
   "cell_type": "markdown",
   "id": "af68d0da",
   "metadata": {},
   "source": [
    "## Create Data Table\n",
    "Collate all responses from queries into a dataframe. Users can view the table."
   ]
  },
  {
   "cell_type": "code",
   "execution_count": 24,
   "id": "a6a66fbd",
   "metadata": {},
   "outputs": [
    {
     "data": {
      "text/html": [
       "<div>\n",
       "<style scoped>\n",
       "    .dataframe tbody tr th:only-of-type {\n",
       "        vertical-align: middle;\n",
       "    }\n",
       "\n",
       "    .dataframe tbody tr th {\n",
       "        vertical-align: top;\n",
       "    }\n",
       "\n",
       "    .dataframe thead th {\n",
       "        text-align: right;\n",
       "    }\n",
       "</style>\n",
       "<table border=\"1\" class=\"dataframe\">\n",
       "  <thead>\n",
       "    <tr style=\"text-align: right;\">\n",
       "      <th></th>\n",
       "      <th>Impact Type</th>\n",
       "      <th>Study Type</th>\n",
       "      <th>Study Location</th>\n",
       "      <th>Impact Description</th>\n",
       "      <th>Geographic Location</th>\n",
       "      <th>Great Lakes Region</th>\n",
       "      <th>Impacted Species</th>\n",
       "      <th>File Name</th>\n",
       "    </tr>\n",
       "  </thead>\n",
       "  <tbody>\n",
       "    <tr>\n",
       "      <th>0</th>\n",
       "      <td>Predation/Herbivory</td>\n",
       "      <td>[Experimental]</td>\n",
       "      <td>[Field]</td>\n",
       "      <td>The predation/herbivory of silver carp (Hypoph...</td>\n",
       "      <td>Mississippi River, Iowa, USA.</td>\n",
       "      <td>no</td>\n",
       "      <td>NA</td>\n",
       "      <td>testPDF.pdf</td>\n",
       "    </tr>\n",
       "    <tr>\n",
       "      <th>1</th>\n",
       "      <td>Competition</td>\n",
       "      <td>Experimental</td>\n",
       "      <td>Field</td>\n",
       "      <td>The invasive silver carp (Hypophthalmichthys m...</td>\n",
       "      <td>Mississippi River, Iowa, USA.</td>\n",
       "      <td>no</td>\n",
       "      <td>NA</td>\n",
       "      <td>testPDF.pdf</td>\n",
       "    </tr>\n",
       "    <tr>\n",
       "      <th>2</th>\n",
       "      <td>Food Web</td>\n",
       "      <td>Experimental</td>\n",
       "      <td>Field</td>\n",
       "      <td>Silver carp (Hypophthalmichthys molitrix) impa...</td>\n",
       "      <td>Upper Mississippi River, Illinois, USA</td>\n",
       "      <td>no</td>\n",
       "      <td>NA</td>\n",
       "      <td>testPDF.pdf</td>\n",
       "    </tr>\n",
       "    <tr>\n",
       "      <th>3</th>\n",
       "      <td>Habitat Alteration</td>\n",
       "      <td>Experimental</td>\n",
       "      <td>Field</td>\n",
       "      <td>The invasive silver carp (Hypophthalmichthys m...</td>\n",
       "      <td>UMR, Iowa, United States</td>\n",
       "      <td>no</td>\n",
       "      <td>Bluegill, emerald shiner, yellow perch</td>\n",
       "      <td>testPDF.pdf</td>\n",
       "    </tr>\n",
       "  </tbody>\n",
       "</table>\n",
       "</div>"
      ],
      "text/plain": [
       "           Impact Type      Study Type Study Location  \\\n",
       "0  Predation/Herbivory  [Experimental]        [Field]   \n",
       "1          Competition    Experimental          Field   \n",
       "2             Food Web    Experimental          Field   \n",
       "3   Habitat Alteration    Experimental          Field   \n",
       "\n",
       "                                  Impact Description  \\\n",
       "0  The predation/herbivory of silver carp (Hypoph...   \n",
       "1  The invasive silver carp (Hypophthalmichthys m...   \n",
       "2  Silver carp (Hypophthalmichthys molitrix) impa...   \n",
       "3  The invasive silver carp (Hypophthalmichthys m...   \n",
       "\n",
       "                      Geographic Location Great Lakes Region  \\\n",
       "0           Mississippi River, Iowa, USA.                 no   \n",
       "1           Mississippi River, Iowa, USA.                 no   \n",
       "2  Upper Mississippi River, Illinois, USA                 no   \n",
       "3                UMR, Iowa, United States                 no   \n",
       "\n",
       "                         Impacted Species    File Name  \n",
       "0                                      NA  testPDF.pdf  \n",
       "1                                      NA  testPDF.pdf  \n",
       "2                                      NA  testPDF.pdf  \n",
       "3  Bluegill, emerald shiner, yellow perch  testPDF.pdf  "
      ]
     },
     "execution_count": 24,
     "metadata": {},
     "output_type": "execute_result"
    }
   ],
   "source": [
    "data = {\n",
    "    \"Impact Type\": impact_types,\n",
    "    \"Study Type\": study_type,\n",
    "    \"Study Location\": study_location,\n",
    "    \"Impact Description\": impact_description,\n",
    "    \"Geographic Location\": geo_loc,\n",
    "    \"Great Lakes Region\": gl_loc,\n",
    "    \"Impacted Species\": impacted_sp   \n",
    "}\n",
    "\n",
    "df = pd.DataFrame(data)\n",
    "df['File Name'] = os.path.basename(file_path)\n",
    "df\n"
   ]
  },
  {
   "cell_type": "markdown",
   "id": "5e38156b",
   "metadata": {},
   "source": [
    "## Export\n",
    "The data table can be exported as an Excel file for later analysis."
   ]
  },
  {
   "cell_type": "code",
   "execution_count": 25,
   "id": "147a5d59",
   "metadata": {},
   "outputs": [],
   "source": [
    "# Save Excel file\n",
    "root = Tk()                                         \n",
    "root.attributes(\"-topmost\", True)                   \n",
    "root.withdraw()\n",
    "file_path = filedialog.asksaveasfilename(defaultextension=\".xlsx\", filetypes=[(\"Excel files\", \"*.xlsx\"), (\"All files\", \"*.*\")])\n",
    "df.to_excel(file_path, index=False)\n"
   ]
  }
 ],
 "metadata": {
  "kernelspec": {
   "display_name": "venvGPTChatbot",
   "language": "python",
   "name": "venvgptchatbot"
  },
  "language_info": {
   "codemirror_mode": {
    "name": "ipython",
    "version": 3
   },
   "file_extension": ".py",
   "mimetype": "text/x-python",
   "name": "python",
   "nbconvert_exporter": "python",
   "pygments_lexer": "ipython3",
   "version": "3.12.2"
  }
 },
 "nbformat": 4,
 "nbformat_minor": 5
}
